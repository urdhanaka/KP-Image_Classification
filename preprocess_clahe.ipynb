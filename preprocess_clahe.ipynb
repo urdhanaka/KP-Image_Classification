{
 "cells": [
  {
   "cell_type": "code",
   "execution_count": 1,
   "metadata": {},
   "outputs": [],
   "source": [
    "import os\n",
    "import cv2"
   ]
  },
  {
   "cell_type": "code",
   "execution_count": 2,
   "metadata": {},
   "outputs": [],
   "source": [
    "DATASET_DIR = \"datasets/Gastrovision\"\n",
    "CLAHE_DATASET_DIR = \"datasets/preprocessed_CLAHE\""
   ]
  },
  {
   "cell_type": "code",
   "execution_count": 3,
   "metadata": {},
   "outputs": [],
   "source": [
    "def concatenate_directory(dir_befor: str, dir_after: str):\n",
    "    return os.path.join(dir_befor, dir_after)"
   ]
  },
  {
   "cell_type": "code",
   "execution_count": 6,
   "metadata": {},
   "outputs": [],
   "source": [
    "def clahe_preprocessing(image: cv2.typing.MatLike) -> cv2.typing.MatLike:\n",
    "    clahe = cv2.createCLAHE(clipLimit=2.0, tileGridSize=(8, 8))\n",
    "    clahe_image = clahe.apply(src=image)\n",
    "\n",
    "    return clahe_image"
   ]
  },
  {
   "cell_type": "code",
   "execution_count": 8,
   "metadata": {},
   "outputs": [],
   "source": [
    "for image_class in os.listdir(DATASET_DIR):\n",
    "    class_dir = concatenate_directory(DATASET_DIR, image_class)\n",
    "    preprocessed_class_dir = concatenate_directory(CLAHE_DATASET_DIR, image_class)\n",
    "    \n",
    "    os.makedirs(preprocessed_class_dir, exist_ok=True)\n",
    "\n",
    "    for image_name in os.listdir(class_dir):\n",
    "        image_path = concatenate_directory(class_dir, image_name)\n",
    "        image_arr = cv2.imread(image_path)\n",
    "        gray_image = cv2.cvtColor(image_arr, cv2.COLOR_BGR2GRAY)\n",
    "        clahe_image = clahe_preprocessing(gray_image)\n",
    "        cv2.imwrite(concatenate_directory(preprocessed_class_dir, image_name), clahe_image)\n"
   ]
  }
 ],
 "metadata": {
  "kernelspec": {
   "display_name": ".venv",
   "language": "python",
   "name": "python3"
  },
  "language_info": {
   "codemirror_mode": {
    "name": "ipython",
    "version": 3
   },
   "file_extension": ".py",
   "mimetype": "text/x-python",
   "name": "python",
   "nbconvert_exporter": "python",
   "pygments_lexer": "ipython3",
   "version": "3.12.6"
  }
 },
 "nbformat": 4,
 "nbformat_minor": 2
}
