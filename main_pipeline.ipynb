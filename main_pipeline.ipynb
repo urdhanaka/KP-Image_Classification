{
 "cells": [
  {
   "cell_type": "code",
   "execution_count": null,
   "metadata": {},
   "outputs": [],
   "source": [
    "import tensorflow as tf\n",
    "import numpy as np\n",
    "import keras\n",
    "from keras.models import Sequential\n",
    "from keras.layers import Dense, Flatten, Dropout\n",
    "from keras import layers\n",
    "from sklearn.metrics import confusion_matrix"
   ]
  },
  {
   "cell_type": "code",
   "execution_count": 2,
   "metadata": {},
   "outputs": [],
   "source": [
    "SEED        = 123\n",
    "BATCH_SIZE  = 32\n",
    "IMG_HEIGHT  = 224\n",
    "IMG_WIDTH   = 224\n",
    "IMG_SIZE    = (IMG_HEIGHT, IMG_WIDTH, 3)"
   ]
  },
  {
   "cell_type": "code",
   "execution_count": null,
   "metadata": {},
   "outputs": [],
   "source": [
    "(train_ds, val_ds) = tf.keras.preprocessing.image_dataset_from_directory(\n",
    "    \"datasets/Gastrovision\",\n",
    "    validation_split=0.15,\n",
    "    subset=\"both\",\n",
    "    seed=123,\n",
    "    image_size=(IMG_HEIGHT, IMG_WIDTH),\n",
    "    batch_size=BATCH_SIZE\n",
    ")"
   ]
  },
  {
   "cell_type": "code",
   "execution_count": 4,
   "metadata": {},
   "outputs": [],
   "source": [
    "# data augmentation\n",
    "data_augmentation = Sequential([\n",
    "    layers.RandomBrightness(factor=0.2, value_range=(0, 255), seed=SEED),\n",
    "    layers.RandomRotation(factor=0.15),\n",
    "    layers.RandomFlip(mode=\"horizontal\")\n",
    "])"
   ]
  },
  {
   "cell_type": "code",
   "execution_count": 5,
   "metadata": {},
   "outputs": [],
   "source": [
    "# We can use any model that we want\n",
    "model_base = tf.keras.applications.ResNet50(\n",
    "    include_top=False,\n",
    "    weights=\"imagenet\",\n",
    "    input_shape=(IMG_HEIGHT, IMG_WIDTH, 3)\n",
    ")\n",
    "\n",
    "model_base.trainable=True\n",
    "for layer in model_base.layers[:-4]:\n",
    "    layer.trainable=False"
   ]
  },
  {
   "cell_type": "code",
   "execution_count": 6,
   "metadata": {},
   "outputs": [],
   "source": [
    "inputs = keras.Input(shape=IMG_SIZE)\n",
    "x = data_augmentation(inputs)\n",
    "x = keras.applications.resnet50.preprocess_input(x)\n",
    "x = model_base(x)\n",
    "x = Flatten()(x)\n",
    "x = Dense(256)(x)\n",
    "x = Dropout(0.5)(x)\n",
    "outputs = Dense(units=8, activation='softmax')(x)\n",
    "model= keras.Model(inputs=inputs, outputs=outputs)"
   ]
  },
  {
   "cell_type": "code",
   "execution_count": 7,
   "metadata": {},
   "outputs": [],
   "source": [
    "model.compile(\n",
    "    optimizer=\"adam\",\n",
    "    loss=tf.losses.SparseCategoricalCrossentropy(),\n",
    "    metrics=[\"accuracy\"]\n",
    ")"
   ]
  },
  {
   "cell_type": "code",
   "execution_count": 8,
   "metadata": {},
   "outputs": [],
   "source": [
    "def get_early_stopping():\n",
    "    return tf.keras.callbacks.EarlyStopping(monitor='val_loss', patience=5)\n",
    "\n",
    "early_stopping = get_early_stopping()\n",
    "\n",
    "callbacks = [early_stopping]"
   ]
  },
  {
   "cell_type": "code",
   "execution_count": null,
   "metadata": {},
   "outputs": [],
   "source": [
    "history = model.fit(train_ds, validation_data=val_ds, batch_size=BATCH_SIZE, epochs=30, callbacks=callbacks)"
   ]
  },
  {
   "cell_type": "code",
   "execution_count": null,
   "metadata": {},
   "outputs": [],
   "source": [
    "predictions = np.array([])\n",
    "labels = np.array([])\n",
    "\n",
    "for x, y in val_ds:\n",
    "    Y_pred = model.predict(x)\n",
    "    y_prediction = np.argmax(Y_pred, axis=1)\n",
    "    predictions = np.concatenate([predictions, y_prediction])\n",
    "    labels = np.concatenate([labels, y.numpy()])\n",
    "\n",
    "print(confusion_matrix(y_true=labels, y_pred=predictions))"
   ]
  }
 ],
 "metadata": {
  "kernelspec": {
   "display_name": "Python 3",
   "language": "python",
   "name": "python3"
  },
  "language_info": {
   "codemirror_mode": {
    "name": "ipython",
    "version": 3
   },
   "file_extension": ".py",
   "mimetype": "text/x-python",
   "name": "python",
   "nbconvert_exporter": "python",
   "pygments_lexer": "ipython3",
   "version": "3.10.14"
  }
 },
 "nbformat": 4,
 "nbformat_minor": 2
}
